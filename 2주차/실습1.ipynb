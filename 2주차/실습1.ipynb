{
 "cells": [
  {
   "cell_type": "code",
   "execution_count": 1,
   "metadata": {},
   "outputs": [
    {
     "name": "stdout",
     "output_type": "stream",
     "text": [
      "Hello, World!\n"
     ]
    }
   ],
   "source": [
    "print('Hello, World!')"
   ]
  },
  {
   "cell_type": "code",
   "execution_count": 2,
   "metadata": {},
   "outputs": [
    {
     "name": "stdout",
     "output_type": "stream",
     "text": [
      "100\n",
      "1.0\n"
     ]
    }
   ],
   "source": [
    "print(100)\n",
    "print(1.0)"
   ]
  },
  {
   "cell_type": "code",
   "execution_count": 3,
   "metadata": {},
   "outputs": [
    {
     "name": "stdout",
     "output_type": "stream",
     "text": [
      "결과값은 14\n",
      "결과값은 14 입니다\n",
      "결과값은입니다\n",
      "결과값은14입니다\n"
     ]
    }
   ],
   "source": [
    "print(\"결과값은\", 2 * 7)\n",
    "\n",
    "print(\"결과값은\", 2 * 7, \"입니다\")\n",
    "\n",
    "print(\"결과값은\" + \"입니다\")\n",
    "print(\"결과값은\" + str(2 * 7) + \"입니다\") # str 함수를 사용하여 문자열로 변경 가능"
   ]
  },
  {
   "cell_type": "code",
   "execution_count": 4,
   "metadata": {},
   "outputs": [
    {
     "name": "stdout",
     "output_type": "stream",
     "text": [
      "100\n",
      "300\n",
      "100 + 200\n",
      "100 200\n",
      "100 200\n",
      "100200\n",
      "100200\n",
      "Kangnam University Best\n",
      "KangnamUniversityBest\n",
      "KangnamUniversityBest\n",
      "KangnamKangnamKangnam\n"
     ]
    }
   ],
   "source": [
    "print(100)\n",
    "print(100 + 200)\n",
    "print('100 + 200')\n",
    "print(100, 200)\n",
    "print('100', '200')\n",
    "print('100' '200')\n",
    "print('100' + '200')\n",
    "print('Kangnam' , 'University', 'Best')\n",
    "print('Kangnam' + 'University' + 'Best')\n",
    "print('Kangnam' 'University' 'Best')\n",
    "print('Kangnam' * 3)\n"
   ]
  }
 ],
 "metadata": {
  "kernelspec": {
   "display_name": "Python 3",
   "language": "python",
   "name": "python3"
  },
  "language_info": {
   "codemirror_mode": {
    "name": "ipython",
    "version": 3
   },
   "file_extension": ".py",
   "mimetype": "text/x-python",
   "name": "python",
   "nbconvert_exporter": "python",
   "pygments_lexer": "ipython3",
   "version": "3.11.4"
  }
 },
 "nbformat": 4,
 "nbformat_minor": 2
}
